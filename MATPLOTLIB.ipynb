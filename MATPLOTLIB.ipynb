{
  "nbformat": 4,
  "nbformat_minor": 0,
  "metadata": {
    "colab": {
      "name": "MATPLOTLIB.ipynb",
      "provenance": [],
      "collapsed_sections": []
    },
    "kernelspec": {
      "name": "python3",
      "display_name": "Python 3"
    },
    "language_info": {
      "name": "python"
    }
  },
  "cells": [
    {
      "cell_type": "code",
      "execution_count": 56,
      "metadata": {
        "id": "pKB00cIxtpNx"
      },
      "outputs": [],
      "source": [
        "import matplotlib.pyplot as plt\n",
        "import pandas as pd\n",
        "import numpy as np"
      ]
    },
    {
      "cell_type": "markdown",
      "source": [
        "Görselliştirme sırasında kullanılacak verilerin eklenmesi. Örnek grafik çizimlerinde kullanacağımız veriler aşağıdaki gibi, herhangi dosya ve türevlerinden de veri eklenebilir.\n",
        "\n",
        "\n",
        "***2 boyutlu veri için x ve y kordinatları oluşturulmalı***\n"
      ],
      "metadata": {
        "id": "kLIBz2Mct8Vo"
      }
    },
    {
      "cell_type": "code",
      "source": [
        "x = [10, 25, 55]\n",
        "x2 = [15, 33, 35]\n",
        "y = [-4, 0, 8]\n",
        "y2 = [-2, 3, -1]"
      ],
      "metadata": {
        "id": "ehl5vHg-tqi9"
      },
      "execution_count": 3,
      "outputs": []
    },
    {
      "cell_type": "markdown",
      "source": [
        "# **Çizgi Grafiği**"
      ],
      "metadata": {
        "id": "PGnvu6MNu-H0"
      }
    },
    {
      "cell_type": "code",
      "source": [
        "fig, ax = plt.subplots()\n",
        "ax.plot(x, y, \"b-\", linewidth=2.0) #3. parametre: [color][marker][linestyle] [blue][circle][dotted]\n",
        "#Bir çalışma üzerinde birden fazla veri tipinin sonucunu görmek istediğimizde aynı obje üzerinden yeni bir çizim yapabiliriz\n",
        "ax.plot(x2, y2, \"r-\", linewidth=2.0)\n",
        "#Farklı parametre ve tipleri için: https://matplotlib.org/stable/api/_as_gen/matplotlib.axes.Axes.plot.html#matplotlib-axes-axes-plot\n",
        "plt.show()"
      ],
      "metadata": {
        "colab": {
          "base_uri": "https://localhost:8080/",
          "height": 265
        },
        "id": "l1UEfYo5vCD5",
        "outputId": "b5e167ec-67b4-4d34-f1d8-19ab3783d6b5"
      },
      "execution_count": 24,
      "outputs": [
        {
          "output_type": "display_data",
          "data": {
            "text/plain": [
              "<Figure size 432x288 with 1 Axes>"
            ],
            "image/png": "[encoded data removed]"
          },
          "metadata": {
            "needs_background": "light"
          }
        }
      ]
    },
    {
      "cell_type": "markdown",
      "source": [
        "# **Scatter Grafiği**"
      ],
      "metadata": {
        "id": "uvZk4P_exh82"
      }
    },
    {
      "cell_type": "code",
      "source": [
        "fig, ax = plt.subplots()\n",
        "ax.plot(x, y, \"go\", linewidth=2.0) #3. parametre: [color][marker][linestyle] [blue][circle][dotted]\n",
        "#Bir çalışma üzerinde birden fazla veri tipinin sonucunu görmek istediğimizde aynı obje üzerinden yeni bir çizim yapabiliriz\n",
        "ax.plot(x2, y2, \"yo\", linewidth=2.0)\n",
        "#Farklı parametre ve tipleri için: https://matplotlib.org/stable/api/_as_gen/matplotlib.axes.Axes.plot.html#matplotlib-axes-axes-plot\n",
        "plt.show()"
      ],
      "metadata": {
        "colab": {
          "base_uri": "https://localhost:8080/",
          "height": 265
        },
        "id": "mwap4OJ4vI9q",
        "outputId": "c0993b90-3d81-43d6-b1ba-a2649f9ea795"
      },
      "execution_count": 27,
      "outputs": [
        {
          "output_type": "display_data",
          "data": {
            "text/plain": [
              "<Figure size 432x288 with 1 Axes>"
            ],
            "image/png": "[encoded data removed]"
          },
          "metadata": {
            "needs_background": "light"
          }
        }
      ]
    },
    {
      "cell_type": "markdown",
      "source": [
        "# **Pasta Grafiği**\n",
        "!Tek boyutlu veri"
      ],
      "metadata": {
        "id": "_Y_KpKy_yA0i"
      }
    },
    {
      "cell_type": "code",
      "source": [
        "fig, ax = plt.subplots()\n",
        "\n",
        "colors = plt.get_cmap('OrRd')(np.linspace(0.1, 0.7, len(x))) #Farklı renkler için: https://matplotlib.org/stable/tutorials/colors/colormaps.html\n",
        "ax.pie(x, colors=colors, radius=5, center=(5,5), wedgeprops={\"linewidth\": 1, \"edgecolor\": \"white\"}, frame=True)\n",
        "\n",
        "ax.set(xlim=(0, 10), xticks=np.arange(1, 10), # Merkezi 5,5 olan 5 birimlik çember için X\n",
        "       ylim=(0, 10), yticks=np.arange(1, 10)) # Merkezi 5,5 olan 5 birimlik çember için Y \n",
        "\n",
        "plt.show()"
      ],
      "metadata": {
        "colab": {
          "base_uri": "https://localhost:8080/",
          "height": 265
        },
        "id": "iANwLXTGxHUc",
        "outputId": "65831f2b-fda1-44b3-ec7a-2e544736f90c"
      },
      "execution_count": 54,
      "outputs": [
        {
          "output_type": "display_data",
          "data": {
            "text/plain": [
              "<Figure size 432x288 with 1 Axes>"
            ],
            "image/png": "[encoded data removed]"
          },
          "metadata": {
            "needs_background": "light"
          }
        }
      ]
    },
    {
      "cell_type": "markdown",
      "source": [
        "# **Mum Grafiği**"
      ],
      "metadata": {
        "id": "HPI2RfVLz-ZT"
      }
    },
    {
      "cell_type": "markdown",
      "source": [
        "Mum grafiğine özel veriler (Bitcoin'in gerçek verileridir)"
      ],
      "metadata": {
        "id": "65TGXLW00w7i"
      }
    },
    {
      "cell_type": "code",
      "source": [
        "prices = pd.DataFrame({'open': [20212.42, 20153.74, 20542.66, 21618.04, 21582.28],\n",
        "                       'close': [20153.51, 20542.67, 21614.60, 21582.20, 21583.99],\n",
        "                       'high': [20734.89, 20650.00, 21855.72, 22490.54, 21959.30],\n",
        "                       'low': [19274.95, 19743.00, 20224.80, 21172.00, 21311.04]},\n",
        "                       index=pd.date_range(\"05-07-2022\", periods=5, freq=\"d\"))"
      ],
      "metadata": {
        "id": "SQ9i_7Aq0wNa"
      },
      "execution_count": 71,
      "outputs": []
    },
    {
      "cell_type": "code",
      "source": [
        "plt.figure()\n",
        "\n",
        "width = .4\n",
        "width2 = .05\n",
        "\n",
        "up = prices[prices.close>=prices.open]\n",
        "down = prices[prices.close<prices.open]\n",
        "\n",
        "col1 = 'green'\n",
        "col2 = 'red'\n",
        "\n",
        "plt.bar(up.index,up.close-up.open,width,bottom=up.open,color=col1)\n",
        "plt.bar(up.index,up.high-up.close,width2,bottom=up.close,color=col1)\n",
        "plt.bar(up.index,up.low-up.open,width2,bottom=up.open,color=col1)\n",
        "\n",
        "plt.bar(down.index,down.close-down.open,width,bottom=down.open,color=col2)\n",
        "plt.bar(down.index,down.high-down.open,width2,bottom=down.open,color=col2)\n",
        "plt.bar(down.index,down.low-down.close,width2,bottom=down.close,color=col2)\n",
        "\n",
        "plt.xticks(rotation=90, ha='right')\n",
        "\n",
        "plt.show()"
      ],
      "metadata": {
        "colab": {
          "base_uri": "https://localhost:8080/",
          "height": 300
        },
        "id": "9Yw2KZe5yJBD",
        "outputId": "9c714665-70b3-4e35-9a01-18de845ac7c2"
      },
      "execution_count": 72,
      "outputs": [
        {
          "output_type": "display_data",
          "data": {
            "text/plain": [
              "<Figure size 432x288 with 1 Axes>"
            ],
            "image/png": "[encoded data removed]"
          },
          "metadata": {
            "needs_background": "light"
          }
        }
      ]
    },
    {
      "cell_type": "code",
      "source": [
        ""
      ],
      "metadata": {
        "id": "zcXPUdYF0BT1"
      },
      "execution_count": 72,
      "outputs": []
    }
  ]
}